{
  "nbformat": 4,
  "nbformat_minor": 0,
  "metadata": {
    "accelerator": "GPU",
    "colab": {
      "name": "ModelTesting.ipynb",
      "provenance": [],
      "collapsed_sections": [],
      "machine_shape": "hm",
      "authorship_tag": "ABX9TyM2wmpAUde4iy41h+aDIjHY",
      "include_colab_link": true
    },
    "kernelspec": {
      "display_name": "Python 3",
      "name": "python3"
    },
    "language_info": {
      "name": "python"
    }
  },
  "cells": [
    {
      "cell_type": "markdown",
      "metadata": {
        "id": "view-in-github",
        "colab_type": "text"
      },
      "source": [
        "<a href=\"https://colab.research.google.com/github/husseindiab/VolatilityPrediction/blob/main/ModelTesting.ipynb\" target=\"_parent\"><img src=\"https://colab.research.google.com/assets/colab-badge.svg\" alt=\"Open In Colab\"/></a>"
      ]
    },
    {
      "cell_type": "markdown",
      "metadata": {
        "id": "I_-RE8c-qFhB"
      },
      "source": [
        "This notebook is used to train and test the model"
      ]
    },
    {
      "cell_type": "code",
      "metadata": {
        "colab": {
          "base_uri": "https://localhost:8080/"
        },
        "id": "1ClAPhAGapoY",
        "outputId": "3d8e81a0-325d-4cae-cc4b-e2b29d5a9c58"
      },
      "source": [
        "!pip install git+https://github.com/patrick-kidger/torchcde.git #torchcde is package used to implement Neural CDEs"
      ],
      "execution_count": null,
      "outputs": [
        {
          "output_type": "stream",
          "name": "stdout",
          "text": [
            "Collecting git+https://github.com/patrick-kidger/torchcde.git\n",
            "  Cloning https://github.com/patrick-kidger/torchcde.git to /tmp/pip-req-build-g0_esbww\n",
            "  Running command git clone -q https://github.com/patrick-kidger/torchcde.git /tmp/pip-req-build-g0_esbww\n",
            "Requirement already satisfied: torch>=1.7.0 in /usr/local/lib/python3.7/dist-packages (from torchcde==0.2.3) (1.9.0+cu102)\n",
            "Collecting torchdiffeq>=0.2.0\n",
            "  Downloading torchdiffeq-0.2.2-py3-none-any.whl (31 kB)\n",
            "Collecting torchsde>=0.2.5\n",
            "  Downloading torchsde-0.2.5-py3-none-any.whl (59 kB)\n",
            "\u001b[K     |████████████████████████████████| 59 kB 6.8 MB/s \n",
            "\u001b[?25hRequirement already satisfied: typing-extensions in /usr/local/lib/python3.7/dist-packages (from torch>=1.7.0->torchcde==0.2.3) (3.7.4.3)\n",
            "Requirement already satisfied: scipy>=1.4.0 in /usr/local/lib/python3.7/dist-packages (from torchdiffeq>=0.2.0->torchcde==0.2.3) (1.4.1)\n",
            "Requirement already satisfied: numpy>=1.13.3 in /usr/local/lib/python3.7/dist-packages (from scipy>=1.4.0->torchdiffeq>=0.2.0->torchcde==0.2.3) (1.19.5)\n",
            "Collecting trampoline>=0.1.2\n",
            "  Downloading trampoline-0.1.2-py3-none-any.whl (5.2 kB)\n",
            "Collecting scipy>=1.4.0\n",
            "  Downloading scipy-1.7.1-cp37-cp37m-manylinux_2_5_x86_64.manylinux1_x86_64.whl (28.5 MB)\n",
            "\u001b[K     |████████████████████████████████| 28.5 MB 1.3 MB/s \n",
            "\u001b[?25hCollecting boltons>=20.2.1\n",
            "  Downloading boltons-21.0.0-py2.py3-none-any.whl (193 kB)\n",
            "\u001b[K     |████████████████████████████████| 193 kB 70.8 MB/s \n",
            "\u001b[?25hBuilding wheels for collected packages: torchcde\n",
            "  Building wheel for torchcde (setup.py) ... \u001b[?25l\u001b[?25hdone\n",
            "  Created wheel for torchcde: filename=torchcde-0.2.3-py3-none-any.whl size=28898 sha256=6e2a52fe64eafb6eb529e56c6d121167f95fe2bb9bf1b910b4312c25c483c761\n",
            "  Stored in directory: /tmp/pip-ephem-wheel-cache-twppcasi/wheels/57/9e/98/bdb1daad21c5227d3460cdc8cc0dd9e6cb6ef8aeafbcc8505d\n",
            "Successfully built torchcde\n",
            "Installing collected packages: trampoline, scipy, boltons, torchsde, torchdiffeq, torchcde\n",
            "  Attempting uninstall: scipy\n",
            "    Found existing installation: scipy 1.4.1\n",
            "    Uninstalling scipy-1.4.1:\n",
            "      Successfully uninstalled scipy-1.4.1\n",
            "\u001b[31mERROR: pip's dependency resolver does not currently take into account all the packages that are installed. This behaviour is the source of the following dependency conflicts.\n",
            "albumentations 0.1.12 requires imgaug<0.2.7,>=0.2.5, but you have imgaug 0.2.9 which is incompatible.\u001b[0m\n",
            "Successfully installed boltons-21.0.0 scipy-1.7.1 torchcde-0.2.3 torchdiffeq-0.2.2 torchsde-0.2.5 trampoline-0.1.2\n"
          ]
        }
      ]
    },
    {
      "cell_type": "code",
      "metadata": {
        "colab": {
          "base_uri": "https://localhost:8080/"
        },
        "id": "82gpwk2edO3o",
        "outputId": "1e09bbf6-192e-4b80-80b4-9b15cfabb29c"
      },
      "source": [
        "from google.colab import drive\n",
        "drive.mount('/content/drive')"
      ],
      "execution_count": null,
      "outputs": [
        {
          "output_type": "stream",
          "name": "stdout",
          "text": [
            "Mounted at /content/drive\n"
          ]
        }
      ]
    },
    {
      "cell_type": "code",
      "metadata": {
        "id": "QD9YVy5_b5Nb"
      },
      "source": [
        "import torch\n",
        "import torch.nn as nn\n",
        "torch.manual_seed(5)\n",
        "import torchcde\n",
        "import matplotlib.pyplot as plt\n",
        "import time\n",
        "import torch.nn.functional as F\n",
        "from sklearn.preprocessing import MinMaxScaler\n",
        "import numpy as np"
      ],
      "execution_count": null,
      "outputs": []
    },
    {
      "cell_type": "code",
      "metadata": {
        "id": "i2Vrj0Sx6yg-"
      },
      "source": [
        "#this cell contains our loss function\n",
        "def rmspe(y_true, y_pred):\n",
        "    return  torch.sqrt(torch.mean(((y_true - y_pred) / y_true)**2))"
      ],
      "execution_count": null,
      "outputs": []
    },
    {
      "cell_type": "code",
      "metadata": {
        "id": "95uRyccHFLj_"
      },
      "source": [
        "#cell is takes in raw time series data and normalizes each feature using different methods\n",
        "\n",
        "def normalize(X, method = \"Z\"):\n",
        "  \n",
        "  if method == \"Z\":\n",
        "\n",
        "    for i in range(X.shape[2]):\n",
        "\n",
        "      if i == 0:\n",
        "          X[:,:,i] = torch.from_numpy(MinMaxScaler(copy=False).fit_transform(np.array(X[:,:,i]).reshape(-1,1)).reshape(X.shape[0],  X.shape[1]))\n",
        "\n",
        "      else:\n",
        "          X[:,:,i] = (X[:,:,i]-torch.mean(X[:,:,i]))/torch.std(X[:,:,i])\n",
        "    \n",
        "  elif method == \"Z2\":\n",
        "\n",
        "    for i in range(X.shape[2]):\n",
        "      \n",
        "      X[:,:,i] = (X[:,:,i]-torch.mean(X[:,:,i]))/torch.std(X[:,:,i])\n",
        "  \n",
        "  elif method == \"MinMax\":\n",
        "\n",
        "    for i in range(X.shape[2]):\n",
        "\n",
        "          X[:,:,i] = torch.from_numpy(MinMaxScaler(copy=False).fit_transform(np.array(X[:,:,i]).reshape(-1,1)).reshape(X.shape[0], X.shape[1]))\n",
        "\n",
        "\n",
        "  elif method == \"MinMax2\":\n",
        "\n",
        "    for i in range(X.shape[0]):\n",
        "\n",
        "      for j in range(X.shape[2]):\n",
        "\n",
        "        X[i,:,j] = torch.from_numpy(MinMaxScaler(copy=False).fit_transform(np.array(X[i,:,j]).reshape(-1,1)).reshape(-1))\n",
        "  \n",
        "  elif method == \"orig\":\n",
        "\n",
        "    for i in range(X.shape[0]):\n",
        "\n",
        "        X[i,:,0] = torch.from_numpy(MinMaxScaler(copy=False).fit_transform(np.array(X[i,:,0]).reshape(-1,1)).reshape(-1))\n",
        "\n",
        "\n",
        "    for i in range(1, X.shape[2]):\n",
        "\n",
        "        X[:,:,i] = torch.from_numpy(MinMaxScaler(copy=False).fit_transform(np.array(X[:,:,i]).reshape(-1,1)).reshape(X.shape[0], X.shape[1]))\n",
        "\n",
        "\n",
        "\n",
        "  return X"
      ],
      "execution_count": null,
      "outputs": []
    },
    {
      "cell_type": "code",
      "metadata": {
        "id": "FYKQnKlCepVb"
      },
      "source": [
        "def get_data(features, X, normalisation = None, method = \"Z\", LL=False):\n",
        "\n",
        "\n",
        "\n",
        "  all_feat = [\"seconds_in_bucket\",\"vol\", \"WAP\", \"BidAskSpread\", \"log return\", \"order_count\", \"size\"]\n",
        "\n",
        "  arrs = []\n",
        "\n",
        "  for i in range(len(all_feat)):\n",
        "\n",
        "    if all_feat[i] in features:\n",
        "\n",
        "      arrs.append(X[:,:,i].reshape(-1,X.shape[1],1))\n",
        "\n",
        "  if normalisation != None:\n",
        "\n",
        "    return normalize(torch.cat(arrs, dim=2), method=method)\n",
        "  \n",
        "  else:\n",
        "\n",
        "    return torch.cat(arrs, dim=2)\n",
        "\n"
      ],
      "execution_count": null,
      "outputs": []
    },
    {
      "cell_type": "code",
      "metadata": {
        "id": "1fM588la-wCe"
      },
      "source": [
        "#this function is the NN used in the controlled differential equation\n",
        "\n",
        "class CDEFunc(nn.Module):\n",
        "  \n",
        "    def __init__(self, input_channels, layers):\n",
        "        \n",
        "        super(CDEFunc, self).__init__()\n",
        "        self.input_channels = input_channels\n",
        "\n",
        "        layer_list = []\n",
        "        \n",
        "        for i in range(len(layers)-1):\n",
        "            #layer_list.append(nn.BatchNorm1d(layers[i]))\n",
        "            layer_list.append(nn.Linear(layers[i],layers[i+1]))\n",
        "            layer_list.append(nn.ReLU())\n",
        "            #layer_list.append(nn.Dropout(p=0.4))\n",
        "        \n",
        "        layer_list.append(nn.Linear(layers[-1], input_channels*layers[0]))\n",
        "\n",
        "        self.layers = nn.Sequential(*layer_list)\n",
        "        \n",
        "\n",
        "    def forward(self, t, z):\n",
        "\n",
        "        z = self.layers(z)\n",
        "        z = z.tanh()\n",
        "\n",
        "        z = z.view(z.size(0), -1, self.input_channels)\n",
        "\n",
        "        return z"
      ],
      "execution_count": null,
      "outputs": []
    },
    {
      "cell_type": "code",
      "metadata": {
        "id": "nFhutzTp-wdX"
      },
      "source": [
        "\n",
        "# Next, we need to package CDEFunc up into a model that solves the differential equation\n",
        "\n",
        "class NeuralCDE(nn.Module):\n",
        "    def __init__(self, input_channels, output_channels, layers=[100], func_layers = [50], prob=0.4, rv = True):\n",
        "        \n",
        "        super(NeuralCDE, self).__init__()\n",
        "      \n",
        "        n_in = func_layers[0] + sum([nf for ni, nf in emb_szs]) \n",
        "\n",
        "        self.func = CDEFunc(input_channels, func_layers) # instantiate NN used in differential equation\n",
        "        self.initial = torch.nn.Linear(input_channels, func_layers[0])\n",
        "        self.rv = rv\n",
        "        \n",
        "        self.embs = nn.ModuleList([nn.Embedding(ni, nf) for ni,nf in emb_szs]) # instantiate embedding layers\n",
        "\n",
        "        layer_list = []\n",
        "        \n",
        "        for i in layers:\n",
        "            layer_list.append(nn.BatchNorm1d(n_in))\n",
        "            layer_list.append(nn.Linear(n_in,i))\n",
        "            layer_list.append(nn.Dropout(p=prob))\n",
        "            layer_list.append(nn.ReLU())\n",
        "            n_in = i\n",
        "        \n",
        "        layer_list.append(nn.Linear(layers[-1], output_channels))\n",
        "\n",
        "        self.layers = nn.Sequential(*layer_list) # create MLP layers to propagate embeds and CDE output \n",
        "        \n",
        "\n",
        "    def forward(self, x, x_cat, RV):\n",
        "\n",
        "        X = torchcde.LinearInterpolation(x) #construct path from timeseries\n",
        "\n",
        "\n",
        "        X0 = X.evaluate(X.interval[0])\n",
        "        z0 = self.initial(X0)\n",
        "        \n",
        "\n",
        "        z_T = torchcde.cdeint(X=X, z0=z0, t=X.interval, func=self.func, method =\"rk4\") #solve CDE\n",
        "        \n",
        "        z_T = z_T[:, 1]\n",
        "        \n",
        "        embeddings = []\n",
        "\n",
        "        for i in range(len(self.embs)):\n",
        "          embeddings.append(self.embs[i](x_cat[:,i]))\n",
        "\n",
        "        x = torch.cat(embeddings, 1) #output of embedding layer\n",
        "        \n",
        "        x = torch.cat([z_T,x], dim=1) #concatenate CDE output with embedding layer\n",
        "\n",
        "        pred = self.layers(x) #propagate concat through MLP\n",
        "\n",
        "        if self.rv:\n",
        "          return RV*pred #multiply pred by vol of prev 10 min window\n",
        "        else:\n",
        "          return pred\n",
        "\n",
        "    \n",
        "    def backward(self, loss, optimizer): #backpropagation\n",
        "        \n",
        "        optimizer.zero_grad()\n",
        "        loss.backward()\n",
        "        optimizer.step()"
      ],
      "execution_count": null,
      "outputs": []
    },
    {
      "cell_type": "code",
      "metadata": {
        "id": "2_z9tKwD-5Ye"
      },
      "source": [
        "def split_data(num=9):\n",
        "\n",
        "  a = np.linspace(0,400000, num=num, endpoint=True)\n",
        "\n",
        "  splits = [(int(a[i]), int(a[i+1])) for i in range(a.shape[0]-1)]\n",
        "  splits.append((400000,-1))\n",
        "\n",
        "  data = []\n",
        "\n",
        "  for start, end in splits:\n",
        "\n",
        "    data.append((X_train[start:end], X_cat_train[start:end], RV_train[start:end], Y_train[start:end]))\n",
        "\n",
        "  return data"
      ],
      "execution_count": null,
      "outputs": []
    },
    {
      "cell_type": "code",
      "metadata": {
        "id": "FCdiNMKGnA1U"
      },
      "source": [
        "feat = [\"seconds_in_bucket\",\"vol\", \"WAP\", \"BidAskSpread\", \"log return\", \"order_count\", \"size\"] # features used in training data"
      ],
      "execution_count": null,
      "outputs": []
    },
    {
      "cell_type": "code",
      "metadata": {
        "id": "H-oeGbR223A3"
      },
      "source": [
        "X = get_data(feat, torch.load(\"/content/drive/MyDrive/600.pt\"), normalisation=True, method=\"orig\").float()"
      ],
      "execution_count": null,
      "outputs": []
    },
    {
      "cell_type": "code",
      "metadata": {
        "colab": {
          "base_uri": "https://localhost:8080/"
        },
        "id": "JhIjwwqVNgy1",
        "outputId": "0fb0f525-5edb-40c7-977c-df972b77aae1"
      },
      "source": [
        "X.shape #(batch, series length, num channels)"
      ],
      "execution_count": null,
      "outputs": [
        {
          "output_type": "execute_result",
          "data": {
            "text/plain": [
              "torch.Size([428932, 600, 7])"
            ]
          },
          "metadata": {},
          "execution_count": 12
        }
      ]
    },
    {
      "cell_type": "code",
      "metadata": {
        "id": "hATTLgq7cDvZ"
      },
      "source": [
        "X_cat = torch.load(\"/content/drive/MyDrive/X_cat.pt\").long() #(stock_id, time_id) data to be used in embedding layers\n",
        "RV = torch.load(\"/content/drive/MyDrive/RV.pt\").float()*1000 #volatility of previous period used to forecast next period\n",
        "Y = torch.load(\"/content/drive/MyDrive/Y.pt\").float()*1000 #target volatilities"
      ],
      "execution_count": null,
      "outputs": []
    },
    {
      "cell_type": "code",
      "metadata": {
        "id": "I6q-9qhf6Tcg"
      },
      "source": [
        "#shuffling data\n",
        "perm = torch.randperm(X.shape[0])\n",
        "X = X[perm]\n",
        "X_cat = X_cat[perm]\n",
        "RV = RV[perm]\n",
        "Y = Y[perm]"
      ],
      "execution_count": null,
      "outputs": []
    },
    {
      "cell_type": "code",
      "metadata": {
        "id": "80KkEI0Y5OEP"
      },
      "source": [
        "#separating data into test and train sets  - test set not to be trained upon\n",
        "\n",
        "test_size = 1000\n",
        "X_train = X[:-test_size].to(\"cuda\")\n",
        "X_cat_train = X_cat[:-test_size].to(\"cuda\")\n",
        "Y_train = Y[:-test_size].to(\"cuda\")\n",
        "RV_train = RV[:-test_size].to(\"cuda\")\n"
      ],
      "execution_count": null,
      "outputs": []
    },
    {
      "cell_type": "code",
      "metadata": {
        "id": "tdFk0HFXnTlC"
      },
      "source": [
        "#split training set into batches for memory purposes\n",
        "data = split_data()"
      ],
      "execution_count": null,
      "outputs": []
    },
    {
      "cell_type": "code",
      "metadata": {
        "id": "lNZzVNQ1Kb6z"
      },
      "source": [
        "X_test = X[-test_size:].to(\"cuda\")\n",
        "X_cat_test = X_cat[-test_size:].to(\"cuda\")\n",
        "Y_test = Y[-test_size:].to(\"cuda\")\n",
        "RV_test = RV[-test_size:].to(\"cuda\")"
      ],
      "execution_count": null,
      "outputs": []
    },
    {
      "cell_type": "code",
      "metadata": {
        "id": "aEphm_pYcxkM"
      },
      "source": [
        "num_stocks = max(X_cat[:,0]).item()+1\n",
        "num_times = max(X_cat[:,1]).item()+1\n",
        "num_feat = X_train.shape[-1]"
      ],
      "execution_count": null,
      "outputs": []
    },
    {
      "cell_type": "code",
      "metadata": {
        "id": "v0jLSzz0cyks"
      },
      "source": [
        "# specific hyperparamters of model\n",
        "\n",
        "emb_szs = [(num_stocks, 50), (num_times, 50)] #embedding layer sizes\n",
        "func_layers = [50]  #layers of the CDEFunc\n",
        "layers = [75]  #MLP layers atop of neuralCDE and embedding layers\n",
        "prob = 0.6  #dropout probability for regularisation\n",
        "lr = 0.001  #learning rate\n",
        "Rv = True  #specifying to the model that we do want to consider volatility of previous 10-minute window"
      ],
      "execution_count": null,
      "outputs": []
    },
    {
      "cell_type": "code",
      "metadata": {
        "id": "Wj7Kv4Gdc30d",
        "colab": {
          "base_uri": "https://localhost:8080/"
        },
        "outputId": "5448a831-34c7-471e-9b6e-117695441b4f"
      },
      "source": [
        "# MEMORY PURPOSES\n",
        "\n",
        "try:\n",
        "\n",
        "  del model\n",
        "  del optimizer\n",
        "  del y_pred\n",
        "  del y_val\n",
        "  del loss\n",
        "  del val_loss\n",
        "  torch.cuda.empty_cache()\n",
        "\n",
        "except:\n",
        "  \n",
        "  print(\"no model to delete\")\n"
      ],
      "execution_count": null,
      "outputs": [
        {
          "output_type": "stream",
          "name": "stdout",
          "text": [
            "no model to delete\n"
          ]
        }
      ]
    },
    {
      "cell_type": "code",
      "metadata": {
        "id": "shW1uP3Ac5h8"
      },
      "source": [
        "model = NeuralCDE(input_channels = num_feat, func_layers = func_layers, output_channels=1, layers=layers, prob=prob, rv=Rv).cuda()"
      ],
      "execution_count": null,
      "outputs": []
    },
    {
      "cell_type": "code",
      "metadata": {
        "id": "28R8TGHwI1gr"
      },
      "source": [
        "optimizer = torch.optim.Adam(model.parameters(), lr=lr)"
      ],
      "execution_count": null,
      "outputs": []
    },
    {
      "cell_type": "code",
      "metadata": {
        "colab": {
          "base_uri": "https://localhost:8080/",
          "height": 1000
        },
        "id": "eogiZCpjdBC5",
        "outputId": "237387dd-9a95-49c8-9c83-f8f88d62befb"
      },
      "source": [
        "#training loop\n",
        "\n",
        "epochs = 1000\n",
        "train_losses = []\n",
        "test_losses = []\n",
        "\n",
        "for i in range(epochs):\n",
        "\n",
        "        #print(\"---------------------- Epoch {} -----------------------\".format(i+1))\n",
        "        #print(\"\")\n",
        "\n",
        "        #start = time.time()\n",
        "        \n",
        "        tot = 0\n",
        "\n",
        "        for x, x_cat, rv, y in data:\n",
        "\n",
        "          y_pred = model.forward(x, x_cat, rv)\n",
        "\n",
        "          loss = rmspe(y, y_pred)\n",
        "\n",
        "          tot+=loss.item()\n",
        "\n",
        "          model.backward(loss, optimizer)\n",
        "\n",
        "        train_losses.append(tot/len(data))\n",
        "        '''\n",
        "    \n",
        "        y_pred = model.forward(X_train, X_cat_train, RV_train)\n",
        "\n",
        "        loss = rmspe(Y_train, y_pred)\n",
        "\n",
        "        train_losses.append(loss.item())\n",
        "\n",
        "        model.backward(loss, optimizer)\n",
        "        '''\n",
        "        \n",
        "        if (i+1)%20==0 and i!=0:\n",
        "\n",
        "          print(\"Epoch {}: Train Loss = {}\".format(i+1, train_losses[i]))\n",
        "            \n",
        "        if i+1==epochs:       \n",
        "                      \n",
        "              plt.figure(figsize=(36,15))\n",
        "              plt.title(f\"features = {feat}, emb sizes = {emb_szs},  func_layers = {func_layers},  layers = {layers},  prob = {prob}, RV = {Rv}, epochs trained = {i+1},  learning rate = {lr}\", fontsize=15)\n",
        "              plt.plot(range(i+1), train_losses)\n",
        "              #plt.plot(range(i+1), test_losses)\n",
        "              plt.xlabel(\"num epochs\", fontsize=15)\n",
        "              plt.ylabel(\"RMSPE\", fontsize=15)\n",
        "              plt.grid(True)\n",
        "              plt.legend(['train loss'])#, 'test loss'])\n",
        "              plt.tight_layout()\n",
        "              plt.show()\n",
        "\n",
        "\n",
        " "
      ],
      "execution_count": 73,
      "outputs": [
        {
          "output_type": "stream",
          "name": "stdout",
          "text": [
            "Epoch 20: Train Loss = 0.34247956342167324\n",
            "Epoch 40: Train Loss = 0.2939646542072296\n",
            "Epoch 60: Train Loss = 0.25447365641593933\n",
            "Epoch 80: Train Loss = 0.23625223669740888\n",
            "Epoch 100: Train Loss = 0.22790108952257368\n",
            "Epoch 120: Train Loss = 0.2235211713446511\n",
            "Epoch 140: Train Loss = 0.22141388224230873\n",
            "Epoch 160: Train Loss = 0.2191194345553716\n",
            "Epoch 180: Train Loss = 0.2177328715721766\n",
            "Epoch 200: Train Loss = 0.21766268544726902\n",
            "Epoch 220: Train Loss = 0.21691809594631195\n",
            "Epoch 240: Train Loss = 0.2173769474029541\n",
            "Epoch 260: Train Loss = 0.2159116566181183\n",
            "Epoch 280: Train Loss = 0.21608909467856088\n",
            "Epoch 300: Train Loss = 0.21546345618036059\n",
            "Epoch 320: Train Loss = 0.21541942656040192\n",
            "Epoch 340: Train Loss = 0.21469594207074907\n",
            "Epoch 360: Train Loss = 0.21527194645669726\n",
            "Epoch 380: Train Loss = 0.21534592906634012\n",
            "Epoch 400: Train Loss = 0.2153107225894928\n",
            "Epoch 420: Train Loss = 0.21504247354136574\n",
            "Epoch 440: Train Loss = 0.21461854378382364\n",
            "Epoch 460: Train Loss = 0.21471002366807726\n",
            "Epoch 480: Train Loss = 0.21435215572516123\n",
            "Epoch 500: Train Loss = 0.21441824403074053\n",
            "Epoch 520: Train Loss = 0.21391447550720638\n",
            "Epoch 540: Train Loss = 0.21391845411724514\n",
            "Epoch 560: Train Loss = 0.21351361605856153\n",
            "Epoch 580: Train Loss = 0.21329528424474928\n",
            "Epoch 600: Train Loss = 0.21303601562976837\n",
            "Epoch 620: Train Loss = 0.21392258339458042\n",
            "Epoch 640: Train Loss = 0.21345648169517517\n",
            "Epoch 660: Train Loss = 0.21250821815596688\n",
            "Epoch 680: Train Loss = 0.2126736342906952\n",
            "Epoch 700: Train Loss = 0.2128053887022866\n",
            "Epoch 720: Train Loss = 0.21194335321585336\n",
            "Epoch 740: Train Loss = 0.21255394485261705\n",
            "Epoch 760: Train Loss = 0.2124835103750229\n",
            "Epoch 780: Train Loss = 0.21214406854576534\n",
            "Epoch 800: Train Loss = 0.21184777385658687\n",
            "Epoch 820: Train Loss = 0.21167664726575217\n",
            "Epoch 840: Train Loss = 0.21220073766178554\n",
            "Epoch 860: Train Loss = 0.21169634494516584\n",
            "Epoch 880: Train Loss = 0.2118655890226364\n",
            "Epoch 900: Train Loss = 0.2114112244711982\n",
            "Epoch 920: Train Loss = 0.21134911477565765\n",
            "Epoch 940: Train Loss = 0.21090320580535465\n",
            "Epoch 960: Train Loss = 0.21123988760842216\n",
            "Epoch 980: Train Loss = 0.21156727936532763\n",
            "Epoch 1000: Train Loss = 0.2112953182723787\n"
          ]
        },
        {
          "output_type": "display_data",
          "data": {
            "image/png": "[encoded data removed]",
            "text/plain": [
              "<Figure size 2592x1080 with 1 Axes>"
            ]
          },
          "metadata": {
            "needs_background": "light"
          }
        }
      ]
    },
    {
      "cell_type": "code",
      "metadata": {
        "id": "zURff8DGiR57",
        "colab": {
          "base_uri": "https://localhost:8080/"
        },
        "outputId": "e536ef78-04e6-4a68-9ba2-99414e96330f"
      },
      "source": [
        "# now we evaluate how the model does on the test set: we turn off all dropout and batch norm layers and use the full network\n",
        "\n",
        "model.eval()\n",
        "\n",
        "with torch.no_grad():\n",
        "\n",
        "    y_val = model.forward(X_test, X_cat_test, RV_test)\n",
        "              \n",
        "    val_loss = rmspe(Y_test, y_val)\n",
        "              \n",
        "    print(\"Final Test Loss = {}\".format(val_loss.item()))"
      ],
      "execution_count": 74,
      "outputs": [
        {
          "output_type": "stream",
          "name": "stdout",
          "text": [
            "Final Test Loss = 0.20205745100975037\n"
          ]
        }
      ]
    },
    {
      "cell_type": "code",
      "metadata": {
        "id": "-y68N3AeXASt"
      },
      "source": [
        ""
      ],
      "execution_count": null,
      "outputs": []
    }
  ]
}