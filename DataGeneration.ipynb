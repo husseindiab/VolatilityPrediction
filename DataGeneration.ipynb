{
  "nbformat": 4,
  "nbformat_minor": 0,
  "metadata": {
    "colab": {
      "name": "DataGeneration.ipynb",
      "provenance": [],
      "collapsed_sections": [],
      "machine_shape": "hm"
    },
    "kernelspec": {
      "display_name": "Python 3",
      "language": "python",
      "name": "python3"
    },
    "language_info": {
      "codemirror_mode": {
        "name": "ipython",
        "version": 3
      },
      "file_extension": ".py",
      "mimetype": "text/x-python",
      "name": "python",
      "nbconvert_exporter": "python",
      "pygments_lexer": "ipython3",
      "version": "3.6.4"
    }
  },
  "cells": [
    {
      "cell_type": "markdown",
      "metadata": {
        "id": "Raj2ROc-m1J6"
      },
      "source": [
        "This notebook is used to generate the datasets used to train and test the model in a different notebook. We generate a torch tensor of shape [428932, 600, 7] where 428932 is the number of training examples, 600 is th length of each time series, and 7 is the number of channels in each entry of the time series ."
      ]
    },
    {
      "cell_type": "code",
      "metadata": {
        "colab": {
          "base_uri": "https://localhost:8080/"
        },
        "id": "jq0qHCt0NkJr",
        "outputId": "9859ccb4-213a-47ce-854e-96f1275ee21a"
      },
      "source": [
        "from google.colab import drive\n",
        "drive.mount('/content/drive')"
      ],
      "execution_count": 1,
      "outputs": [
        {
          "output_type": "stream",
          "name": "stdout",
          "text": [
            "Mounted at /content/drive\n"
          ]
        }
      ]
    },
    {
      "cell_type": "code",
      "metadata": {
        "id": "aZ8qQAX50o2S"
      },
      "source": [
        "import numpy as np \n",
        "import pandas as pd\n",
        "import matplotlib.pyplot as plt\n",
        "from sklearn.preprocessing import MinMaxScaler\n",
        "import torch\n",
        "import torch.nn as nn\n",
        "torch.manual_seed(5)\n",
        "import pyarrow.parquet as pq\n",
        "import time\n",
        "pd.set_option('display.max_columns', None)  # or 1000\n",
        "pd.set_option('display.max_rows', None)  # or 1000\n",
        "MAX_TIME_ID = int(3.276700e+04)\n",
        "MAX_STOCK_ID = 126"
      ],
      "execution_count": 2,
      "outputs": []
    },
    {
      "cell_type": "code",
      "metadata": {
        "id": "51rdOA0A0o2U"
      },
      "source": [
        "def log_return(list_stock_prices):\n",
        "    return np.log(list_stock_prices).diff()"
      ],
      "execution_count": 6,
      "outputs": []
    },
    {
      "cell_type": "code",
      "metadata": {
        "id": "_NYEFSV90o2V"
      },
      "source": [
        "# This cell loads in the training set. The training set contains (stock, time) pairs and the target volatility\n",
        "\n",
        "train  = pd.read_csv(\"/content/drive/MyDrive/optiver-realized-volatility-prediction/train.csv\")\n",
        "train[\"stock_id\"] = train[\"stock_id\"].astype(\"int\")\n",
        "train[\"time_id\"] = train[\"time_id\"].astype(\"int\")\n",
        "\n",
        "\n",
        "train_ids = np.zeros((len(train), 2), dtype=\"int\")\n",
        "\n",
        "\n",
        "train_ids[:,0] = train[\"stock_id\"].values\n",
        "train_ids[:,1] = train[\"time_id\"].values\n"
      ],
      "execution_count": 7,
      "outputs": []
    },
    {
      "cell_type": "code",
      "metadata": {
        "colab": {
          "base_uri": "https://localhost:8080/",
          "height": 204
        },
        "id": "jKlklkCIl8hD",
        "outputId": "a44bec06-2ff4-42b2-8185-ce5b8d7a026c"
      },
      "source": [
        "train.head()"
      ],
      "execution_count": 10,
      "outputs": [
        {
          "output_type": "execute_result",
          "data": {
            "text/html": [
              "<div>\n",
              "<style scoped>\n",
              "    .dataframe tbody tr th:only-of-type {\n",
              "        vertical-align: middle;\n",
              "    }\n",
              "\n",
              "    .dataframe tbody tr th {\n",
              "        vertical-align: top;\n",
              "    }\n",
              "\n",
              "    .dataframe thead th {\n",
              "        text-align: right;\n",
              "    }\n",
              "</style>\n",
              "<table border=\"1\" class=\"dataframe\">\n",
              "  <thead>\n",
              "    <tr style=\"text-align: right;\">\n",
              "      <th></th>\n",
              "      <th>stock_id</th>\n",
              "      <th>time_id</th>\n",
              "      <th>target</th>\n",
              "    </tr>\n",
              "  </thead>\n",
              "  <tbody>\n",
              "    <tr>\n",
              "      <th>0</th>\n",
              "      <td>0</td>\n",
              "      <td>5</td>\n",
              "      <td>0.004136</td>\n",
              "    </tr>\n",
              "    <tr>\n",
              "      <th>1</th>\n",
              "      <td>0</td>\n",
              "      <td>11</td>\n",
              "      <td>0.001445</td>\n",
              "    </tr>\n",
              "    <tr>\n",
              "      <th>2</th>\n",
              "      <td>0</td>\n",
              "      <td>16</td>\n",
              "      <td>0.002168</td>\n",
              "    </tr>\n",
              "    <tr>\n",
              "      <th>3</th>\n",
              "      <td>0</td>\n",
              "      <td>31</td>\n",
              "      <td>0.002195</td>\n",
              "    </tr>\n",
              "    <tr>\n",
              "      <th>4</th>\n",
              "      <td>0</td>\n",
              "      <td>62</td>\n",
              "      <td>0.001747</td>\n",
              "    </tr>\n",
              "  </tbody>\n",
              "</table>\n",
              "</div>"
            ],
            "text/plain": [
              "   stock_id  time_id    target\n",
              "0         0        5  0.004136\n",
              "1         0       11  0.001445\n",
              "2         0       16  0.002168\n",
              "3         0       31  0.002195\n",
              "4         0       62  0.001747"
            ]
          },
          "metadata": {},
          "execution_count": 10
        }
      ]
    },
    {
      "cell_type": "code",
      "metadata": {
        "id": "-97925MEmIid"
      },
      "source": [
        "stock_id, time_id = train_ids[0] #taking the first traing case"
      ],
      "execution_count": 15,
      "outputs": []
    },
    {
      "cell_type": "code",
      "metadata": {
        "id": "zP6d_2QX0o2W",
        "colab": {
          "base_uri": "https://localhost:8080/"
        },
        "outputId": "96d17537-2f00-4b25-9cd0-95fd0f67f001"
      },
      "source": [
        "# here we load in all the order book data organised by stock id into dictionaries for faster lookup times. We calculate the additional features of \"BidAskSpread\" amd \"WAP\"\n",
        "order_books = {}\n",
        "for stock_id in range(MAX_STOCK_ID+1):\n",
        "    try:\n",
        "        order_books[\"{}\".format(stock_id)] = pq.read_table(\"/content/drive/MyDrive/optiver-realized-volatility-prediction/book_train.parquet/stock_id={}\".format(stock_id)).to_pandas()\n",
        "        order_books[\"{}\".format(stock_id)][\"time_id\"] = order_books[\"{}\".format(stock_id)][\"time_id\"].astype(\"int\")\n",
        "        order_books[\"{}\".format(stock_id)][\"WAP\"] =  (order_books[\"{}\".format(stock_id)]['bid_price1'] * order_books[\"{}\".format(stock_id)]['ask_size1'] + order_books[\"{}\".format(stock_id)]['ask_price1'] * order_books[\"{}\".format(stock_id)]['bid_size1']) / (order_books[\"{}\".format(stock_id)]['bid_size1']+ order_books[\"{}\".format(stock_id)]['ask_size1'])\n",
        "        order_books[\"{}\".format(stock_id)][\"BidAskSpread\"] = order_books[\"{}\".format(stock_id)][\"ask_price1\"]/order_books[\"{}\".format(stock_id)][\"bid_price1\"]-1\n",
        "    except:\n",
        "        print(stock_id)\n",
        "\n",
        "\n",
        "       "
      ],
      "execution_count": 8,
      "outputs": [
        {
          "output_type": "stream",
          "name": "stdout",
          "text": [
            "12\n",
            "24\n",
            "25\n",
            "45\n",
            "49\n",
            "54\n",
            "57\n",
            "65\n",
            "71\n",
            "79\n",
            "91\n",
            "92\n",
            "106\n",
            "117\n",
            "121\n"
          ]
        }
      ]
    },
    {
      "cell_type": "code",
      "metadata": {
        "colab": {
          "base_uri": "https://localhost:8080/",
          "height": 204
        },
        "id": "UY5us3Wwl_2d",
        "outputId": "f789ef61-a50a-4c41-bfce-0195543409f4"
      },
      "source": [
        "#below is a snapshot of the order book for a specific time id. From this orderbook we will construct a time series of our desired features\n",
        "orders = order_books[f\"{stock_id}\"]\n",
        "orders[orders[\"time_id\"]==time_id].head()"
      ],
      "execution_count": 16,
      "outputs": [
        {
          "output_type": "execute_result",
          "data": {
            "text/html": [
              "<div>\n",
              "<style scoped>\n",
              "    .dataframe tbody tr th:only-of-type {\n",
              "        vertical-align: middle;\n",
              "    }\n",
              "\n",
              "    .dataframe tbody tr th {\n",
              "        vertical-align: top;\n",
              "    }\n",
              "\n",
              "    .dataframe thead th {\n",
              "        text-align: right;\n",
              "    }\n",
              "</style>\n",
              "<table border=\"1\" class=\"dataframe\">\n",
              "  <thead>\n",
              "    <tr style=\"text-align: right;\">\n",
              "      <th></th>\n",
              "      <th>time_id</th>\n",
              "      <th>seconds_in_bucket</th>\n",
              "      <th>bid_price1</th>\n",
              "      <th>ask_price1</th>\n",
              "      <th>bid_price2</th>\n",
              "      <th>ask_price2</th>\n",
              "      <th>bid_size1</th>\n",
              "      <th>ask_size1</th>\n",
              "      <th>bid_size2</th>\n",
              "      <th>ask_size2</th>\n",
              "      <th>WAP</th>\n",
              "      <th>BidAskSpread</th>\n",
              "    </tr>\n",
              "  </thead>\n",
              "  <tbody>\n",
              "    <tr>\n",
              "      <th>0</th>\n",
              "      <td>5</td>\n",
              "      <td>0</td>\n",
              "      <td>1.001422</td>\n",
              "      <td>1.002301</td>\n",
              "      <td>1.00137</td>\n",
              "      <td>1.002353</td>\n",
              "      <td>3</td>\n",
              "      <td>226</td>\n",
              "      <td>2</td>\n",
              "      <td>100</td>\n",
              "      <td>1.001434</td>\n",
              "      <td>0.000878</td>\n",
              "    </tr>\n",
              "    <tr>\n",
              "      <th>1</th>\n",
              "      <td>5</td>\n",
              "      <td>1</td>\n",
              "      <td>1.001422</td>\n",
              "      <td>1.002301</td>\n",
              "      <td>1.00137</td>\n",
              "      <td>1.002353</td>\n",
              "      <td>3</td>\n",
              "      <td>100</td>\n",
              "      <td>2</td>\n",
              "      <td>100</td>\n",
              "      <td>1.001448</td>\n",
              "      <td>0.000878</td>\n",
              "    </tr>\n",
              "    <tr>\n",
              "      <th>2</th>\n",
              "      <td>5</td>\n",
              "      <td>5</td>\n",
              "      <td>1.001422</td>\n",
              "      <td>1.002301</td>\n",
              "      <td>1.00137</td>\n",
              "      <td>1.002405</td>\n",
              "      <td>3</td>\n",
              "      <td>100</td>\n",
              "      <td>2</td>\n",
              "      <td>100</td>\n",
              "      <td>1.001448</td>\n",
              "      <td>0.000878</td>\n",
              "    </tr>\n",
              "    <tr>\n",
              "      <th>3</th>\n",
              "      <td>5</td>\n",
              "      <td>6</td>\n",
              "      <td>1.001422</td>\n",
              "      <td>1.002301</td>\n",
              "      <td>1.00137</td>\n",
              "      <td>1.002405</td>\n",
              "      <td>3</td>\n",
              "      <td>126</td>\n",
              "      <td>2</td>\n",
              "      <td>100</td>\n",
              "      <td>1.001443</td>\n",
              "      <td>0.000878</td>\n",
              "    </tr>\n",
              "    <tr>\n",
              "      <th>4</th>\n",
              "      <td>5</td>\n",
              "      <td>7</td>\n",
              "      <td>1.001422</td>\n",
              "      <td>1.002301</td>\n",
              "      <td>1.00137</td>\n",
              "      <td>1.002405</td>\n",
              "      <td>3</td>\n",
              "      <td>126</td>\n",
              "      <td>2</td>\n",
              "      <td>100</td>\n",
              "      <td>1.001443</td>\n",
              "      <td>0.000878</td>\n",
              "    </tr>\n",
              "  </tbody>\n",
              "</table>\n",
              "</div>"
            ],
            "text/plain": [
              "   time_id  seconds_in_bucket  bid_price1  ask_price1  bid_price2  ask_price2  \\\n",
              "0        5                  0    1.001422    1.002301     1.00137    1.002353   \n",
              "1        5                  1    1.001422    1.002301     1.00137    1.002353   \n",
              "2        5                  5    1.001422    1.002301     1.00137    1.002405   \n",
              "3        5                  6    1.001422    1.002301     1.00137    1.002405   \n",
              "4        5                  7    1.001422    1.002301     1.00137    1.002405   \n",
              "\n",
              "   bid_size1  ask_size1  bid_size2  ask_size2       WAP  BidAskSpread  \n",
              "0          3        226          2        100  1.001434      0.000878  \n",
              "1          3        100          2        100  1.001448      0.000878  \n",
              "2          3        100          2        100  1.001448      0.000878  \n",
              "3          3        126          2        100  1.001443      0.000878  \n",
              "4          3        126          2        100  1.001443      0.000878  "
            ]
          },
          "metadata": {},
          "execution_count": 16
        }
      ]
    },
    {
      "cell_type": "code",
      "metadata": {
        "id": "1Dy65RyN0o2W",
        "colab": {
          "base_uri": "https://localhost:8080/"
        },
        "outputId": "e5226d33-8fbb-43d3-b20d-cc242782fc23"
      },
      "source": [
        "# here we load in trade book data\n",
        "trade_books = {}\n",
        "\n",
        "for stock_id in range(MAX_STOCK_ID+1):\n",
        "    try:\n",
        "        trade_books[\"{}\".format(stock_id)] = pq.read_table(\"/content/drive/MyDrive/optiver-realized-volatility-prediction/trade_train.parquet/stock_id={}\".format(stock_id)).to_pandas()\n",
        "        trade_books[\"{}\".format(stock_id)][\"time_id\"] = trade_books[\"{}\".format(stock_id)][\"time_id\"].astype(\"int\")\n",
        "  \n",
        "    except:\n",
        "        print(stock_id)\n"
      ],
      "execution_count": 9,
      "outputs": [
        {
          "output_type": "stream",
          "name": "stdout",
          "text": [
            "12\n",
            "24\n",
            "25\n",
            "45\n",
            "49\n",
            "54\n",
            "57\n",
            "65\n",
            "71\n",
            "79\n",
            "91\n",
            "92\n",
            "106\n",
            "117\n",
            "121\n"
          ]
        }
      ]
    },
    {
      "cell_type": "code",
      "metadata": {
        "colab": {
          "base_uri": "https://localhost:8080/",
          "height": 204
        },
        "id": "wNoukVUnmeyg",
        "outputId": "ca9bd608-7e59-4e66-8196-34f05cd73867"
      },
      "source": [
        "# below is snapshot of trade book for specific time id\n",
        "trades = trade_books[f\"{stock_id}\"]\n",
        "trades[trades[\"time_id\"]==time_id].head()"
      ],
      "execution_count": 17,
      "outputs": [
        {
          "output_type": "execute_result",
          "data": {
            "text/html": [
              "<div>\n",
              "<style scoped>\n",
              "    .dataframe tbody tr th:only-of-type {\n",
              "        vertical-align: middle;\n",
              "    }\n",
              "\n",
              "    .dataframe tbody tr th {\n",
              "        vertical-align: top;\n",
              "    }\n",
              "\n",
              "    .dataframe thead th {\n",
              "        text-align: right;\n",
              "    }\n",
              "</style>\n",
              "<table border=\"1\" class=\"dataframe\">\n",
              "  <thead>\n",
              "    <tr style=\"text-align: right;\">\n",
              "      <th></th>\n",
              "      <th>time_id</th>\n",
              "      <th>seconds_in_bucket</th>\n",
              "      <th>price</th>\n",
              "      <th>size</th>\n",
              "      <th>order_count</th>\n",
              "    </tr>\n",
              "  </thead>\n",
              "  <tbody>\n",
              "    <tr>\n",
              "      <th>0</th>\n",
              "      <td>5</td>\n",
              "      <td>21</td>\n",
              "      <td>1.002301</td>\n",
              "      <td>326</td>\n",
              "      <td>12</td>\n",
              "    </tr>\n",
              "    <tr>\n",
              "      <th>1</th>\n",
              "      <td>5</td>\n",
              "      <td>46</td>\n",
              "      <td>1.002778</td>\n",
              "      <td>128</td>\n",
              "      <td>4</td>\n",
              "    </tr>\n",
              "    <tr>\n",
              "      <th>2</th>\n",
              "      <td>5</td>\n",
              "      <td>50</td>\n",
              "      <td>1.002818</td>\n",
              "      <td>55</td>\n",
              "      <td>1</td>\n",
              "    </tr>\n",
              "    <tr>\n",
              "      <th>3</th>\n",
              "      <td>5</td>\n",
              "      <td>57</td>\n",
              "      <td>1.003155</td>\n",
              "      <td>121</td>\n",
              "      <td>5</td>\n",
              "    </tr>\n",
              "    <tr>\n",
              "      <th>4</th>\n",
              "      <td>5</td>\n",
              "      <td>68</td>\n",
              "      <td>1.003646</td>\n",
              "      <td>4</td>\n",
              "      <td>1</td>\n",
              "    </tr>\n",
              "  </tbody>\n",
              "</table>\n",
              "</div>"
            ],
            "text/plain": [
              "   time_id  seconds_in_bucket     price  size  order_count\n",
              "0        5                 21  1.002301   326           12\n",
              "1        5                 46  1.002778   128            4\n",
              "2        5                 50  1.002818    55            1\n",
              "3        5                 57  1.003155   121            5\n",
              "4        5                 68  1.003646     4            1"
            ]
          },
          "metadata": {},
          "execution_count": 17
        }
      ]
    },
    {
      "cell_type": "code",
      "metadata": {
        "id": "3K9UNvDmSROt"
      },
      "source": [
        "# to_arr tkes in the trade book and orderbook for a given time, concatenates them according to the time index, fills in the nan values and then\n",
        "# takes out our desired features. It also calculates the volatility of the 10 minute period to be used in order to forecast the volatility of the\n",
        "# next period in the model. The output is a numpy array of shape (num_entries, num_channels)\n",
        "\n",
        "def to_arr(orders, trades, features):\n",
        "        \n",
        "    orders = orders.set_index(\"seconds_in_bucket\")\n",
        "    orders[\"log return\"] = log_return(orders[\"WAP\"])\n",
        "    orders[\"vol\"] = np.sqrt((orders[\"log return\"]**2).cumsum())\n",
        "\n",
        "    trades = trades.set_index(\"seconds_in_bucket\")\n",
        "    trades[\"size\"] = trades[\"size\"].cumsum()\n",
        "    trades[\"order_count\"] = trades[\"order_count\"].cumsum()\n",
        "\n",
        "    df = pd.concat([orders, trades], axis=1)\n",
        "    #print(df.columns)              \n",
        "    df[\"seconds_in_bucket\"] = df.index.values\n",
        "    df = df.fillna(method=\"ffill\").fillna(0)\n",
        "    #print(rv)\n",
        "    #print(features)\n",
        "    df = df[features]\n",
        "\n",
        "    rv = df[\"vol\"].values[-1]\n",
        "\n",
        "        \n",
        "    return df.values, np.array(rv)"
      ],
      "execution_count": null,
      "outputs": []
    },
    {
      "cell_type": "code",
      "metadata": {
        "id": "SJ4LTec-0o2X"
      },
      "source": [
        "# from the output of to_arr, we generate a time series using array slicing and pad the array using the final values such that each time series is of the same length\n",
        "# returns an array of shape (600, num_channels)\n",
        "def create_time_series(arr, max_len=600):\n",
        "  \n",
        "    num_features = arr.shape[1]\n",
        "    \n",
        "    X = np.zeros((1, max_len, num_features))\n",
        "    \n",
        "\n",
        "    for j in range(max_len):\n",
        "\n",
        "        try:\n",
        "          X[0,j,:] = arr[j,:]\n",
        "        \n",
        "        except:\n",
        "          X[0,j,:] = X[0,j-1,:]\n",
        "\n",
        "    return X\n",
        "    \n",
        "    "
      ],
      "execution_count": null,
      "outputs": []
    },
    {
      "cell_type": "code",
      "metadata": {
        "id": "ZWE_oYfY0o2X"
      },
      "source": [
        "# returns the time series for a given stock and time id, as well as the RV calculated in to_arr, and the categorical stock and time entry\n",
        "\n",
        "def generate_training_data(stock_id, time_id, orders, trades, features):\n",
        "    \n",
        "    X, RV = to_arr(orders, trades, features)\n",
        "    \n",
        "    X = create_time_series(X, max_len=600)\n",
        "\n",
        "    X_cat = np.array([int(stock_id), int(time_id)]).reshape(-1,2)\n",
        "    \n",
        "    return X, X_cat, RV.reshape(-1,1)"
      ],
      "execution_count": null,
      "outputs": []
    },
    {
      "cell_type": "code",
      "metadata": {
        "id": "lXs-zRM60o2a"
      },
      "source": [
        "def get_data(features, size = len(train)):\n",
        "\n",
        "    X = torch.zeros((size, 600, len(features)))\n",
        "    X_cat =  torch.zeros((size, 2))\n",
        "    RV = torch.zeros((size, 1))\n",
        "    Y = torch.zeros((size,1))\n",
        "    \n",
        "    count=0\n",
        "    s=time.time()\n",
        "    \n",
        "    for i, j in train_ids:\n",
        "        \n",
        "        if count==size:\n",
        "            break\n",
        "            \n",
        "        \n",
        "        orders = order_books[f\"{i}\"]\n",
        "        trades = trade_books[f\"{i}\"]\n",
        "        orders = orders[orders[\"time_id\"]==j]\n",
        "        trades = trades[trades[\"time_id\"]==j]\n",
        "        trn = train[(train[\"stock_id\"]==i) & (train[\"time_id\"]==j)][\"target\"].values.reshape(-1,1)\n",
        "        x, x_cat, rv = generate_training_data(stock_id=i,time_id=j,orders=orders, trades=trades,features=features)\n",
        "\n",
        "        X[count,:,:] = torch.from_numpy(x).float()\n",
        "        X_cat[count,:] = torch.from_numpy(x_cat).long()\n",
        "        Y[count,:]  = torch.from_numpy(trn).float()\n",
        "        RV[count,:] = torch.from_numpy(rv).float()\n",
        "        count+=1\n",
        "        \n",
        "        \n",
        "        if count%(size//100)==0:\n",
        "            \n",
        "            d = time.time()-s\n",
        "            \n",
        "            print(\"duration to complete {}/{} = {} seconds\".format(count, size, d))\n",
        "    \n",
        "    torch.save(X, f\"/content/drive/MyDrive/{features}.pt\") # saves training data to drive\n",
        "    torch.save(X_cat, \"/content/drive/MyDrive/X_cat.pt\")\n",
        "    torch.save(RV, \"/content/drive/MyDrive/RV.pt\")\n",
        "    torch.save(Y, \"/content/drive/MyDrive/Y.pt\")\n",
        "    print(\"save complete\")\n",
        "\n",
        "    return X\n",
        "    "
      ],
      "execution_count": null,
      "outputs": []
    },
    {
      "cell_type": "code",
      "metadata": {
        "id": "-PFxZ2Gs0o2b"
      },
      "source": [
        "############### HYPERPARAMETERS #################\n",
        "\n",
        "# here we specify the features we want in our trainin set and how many training cases we want to consider (mainly for memory purposes)\n",
        "\n",
        "features = [\"seconds_in_bucket\",\"vol\", \"WAP\", \"BidAskSpread\", \"log return\", \"order_count\", \"size\"]\n",
        "size = len(train)\n",
        "\n"
      ],
      "execution_count": null,
      "outputs": []
    },
    {
      "cell_type": "code",
      "metadata": {
        "id": "PTzUVZZo0o2c"
      },
      "source": [
        "X = get_data(size=size, features = features) "
      ],
      "execution_count": null,
      "outputs": []
    },
    {
      "cell_type": "markdown",
      "metadata": {
        "id": "XZ3l_jfOpl0V"
      },
      "source": [
        "Below are various transformations thatw ere experimented with"
      ]
    },
    {
      "cell_type": "code",
      "metadata": {
        "id": "2B9pODFOkIKB"
      },
      "source": [
        "def shorten(X, num):\n",
        "\n",
        "  print(f\"---------------------- num = {num} ---------------------------\")\n",
        "\n",
        "  new = torch.zeros(X.shape[0], num, X.shape[2])\n",
        "\n",
        "  s = time.time()\n",
        "\n",
        "  for i in range(X.shape[0]):\n",
        "\n",
        "    for j in range(1, X.shape[1]):\n",
        "\n",
        "      if X[i,j,0] == X[i,j-1,0]:\n",
        "\n",
        "\n",
        "        if len(X[i,:,0].unique())<num:\n",
        "\n",
        "          aux = X[i, -1, :]*torch.ones(1, num, X.shape[2])\n",
        "\n",
        "          aux[0,:len(X[i,:,0].unique()),:] = X[i,:j,:]\n",
        "\n",
        "          new[i,:,:] = aux\n",
        "\n",
        "        else:\n",
        "\n",
        "          new[i,:,:] = X[i,j-(num):j,:]\n",
        "\n",
        "        break\n",
        "    \n",
        "    if (i+1)%(X.shape[0]//10)==0:\n",
        "            \n",
        "        d = time.time()-s\n",
        "            \n",
        "        print(\"duration to complete {}/{} = {} seconds\".format(i+1, X.shape[0], d))\n",
        "\n",
        "  \n",
        "  return new"
      ],
      "execution_count": null,
      "outputs": []
    },
    {
      "cell_type": "code",
      "metadata": {
        "id": "czo9CUN6kLO3"
      },
      "source": [
        "import copy\n",
        "import math\n",
        "from scipy.ndimage import shift\n",
        "from sklearn.base import BaseEstimator, TransformerMixin\n",
        "from sklearn.utils import as_float_array\n",
        "\n",
        "class AddTime(BaseEstimator, TransformerMixin):\n",
        "    def __init__(self, init_time=0., total_time=1.):\n",
        "        self.init_time = init_time\n",
        "        self.total_time = total_time\n",
        "\n",
        "    def fit(self, X, y=None):\n",
        "        return self\n",
        "\n",
        "    def transform_instance(self, X):\n",
        "        t = np.linspace(self.init_time, self.init_time + 1, len(X))\n",
        "        return np.c_[t, X]\n",
        "\n",
        "    def transform(self, X, y=None):\n",
        "        return [self.transform_instance(x) for x in X]\n",
        "\n",
        "class LeadLag(BaseEstimator, TransformerMixin):\n",
        "    def __init__(self):\n",
        "        pass\n",
        "\n",
        "    def fit(self, X, y=None):\n",
        "        return self\n",
        "\n",
        "    def transform_instance(self, X):\n",
        "        lag = []\n",
        "        lead = []\n",
        "\n",
        "        for val_lag, val_lead in zip(X[:-1], X[1:]):\n",
        "            lag.append(val_lag)\n",
        "            lead.append(val_lag)\n",
        "\n",
        "            lag.append(val_lag)\n",
        "            lead.append(val_lead)\n",
        "\n",
        "        lag.append(X[-1])\n",
        "        lead.append(X[-1])\n",
        "\n",
        "        return np.c_[lag, lead]\n",
        "\n",
        "    def transform(self, X, y=None):\n",
        "        return [self.transform_instance(x) for x in X]\n",
        "\n",
        "def transform(paths, at=False, ll=False, scale=1.):\n",
        "    paths = scale*paths\n",
        "    if ll:\n",
        "        paths = LeadLag().fit_transform(paths)\n",
        "    if at:\n",
        "        paths = AddTime().fit_transform(paths)\n",
        "    return np.array(paths)\n"
      ],
      "execution_count": null,
      "outputs": []
    },
    {
      "cell_type": "code",
      "metadata": {
        "id": "1evS26AakOyp"
      },
      "source": [
        "def lead_lag(x):\n",
        "\n",
        "  new = torch.zeros(x.shape[0], 2*x.shape[1]-1, 2*x.shape[2]-1)\n",
        "\n",
        "  s = time.time()\n",
        "\n",
        "  for i in range(x.shape[0]):\n",
        "\n",
        "    new[i,:,:] = torch.from_numpy(np.transpose(transform(torch.transpose(x[0] ,dim0=1, dim1=0), ll=True), (1,0,2)).reshape(2*x.shape[1]-1, -1)[:,1:])\n",
        "\n",
        "    if (i+1)%(x.shape[0]//500)==0:\n",
        "            \n",
        "        d = time.time()-s\n",
        "            \n",
        "        print(\"duration to complete {}/{} = {} seconds\".format(i+1, x.shape[0], d))\n",
        "\n",
        "  \n",
        "\n",
        "  return new"
      ],
      "execution_count": null,
      "outputs": []
    }
  ]
}